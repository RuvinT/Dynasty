{
 "cells": [
  {
   "cell_type": "code",
   "execution_count": 173,
   "id": "80f5566d",
   "metadata": {},
   "outputs": [],
   "source": [
    "import pandas as pd\n",
    "import numpy as np\n",
    "import chess\n",
    "import chess.engine\n",
    "import re\n",
    "import matplotlib.pyplot as plt"
   ]
  },
  {
   "cell_type": "code",
   "execution_count": 170,
   "id": "0ad0d28c",
   "metadata": {},
   "outputs": [],
   "source": [
    "from sklearn.model_selection import train_test_split\n",
    "from tensorflow.keras.models import Sequential\n",
    "from tensorflow.keras.layers import Dense, Flatten, Conv2D\n",
    "from tensorflow.keras.optimizers import Adam\n",
    "from tensorflow.keras.utils import to_categorical\n",
    "from tensorflow.keras import models\n",
    "from sklearn.metrics import mean_squared_error, mean_absolute_error"
   ]
  },
  {
   "cell_type": "code",
   "execution_count": 133,
   "id": "6274f869",
   "metadata": {},
   "outputs": [],
   "source": [
    "# Load the dataset from the image file\n",
    "data = pd.read_csv(r'C:\\Users\\Admin\\AIP\\tactic_evals.csv')"
   ]
  },
  {
   "cell_type": "code",
   "execution_count": 138,
   "id": "e6c67880",
   "metadata": {},
   "outputs": [
    {
     "data": {
      "text/html": [
       "<div>\n",
       "<style scoped>\n",
       "    .dataframe tbody tr th:only-of-type {\n",
       "        vertical-align: middle;\n",
       "    }\n",
       "\n",
       "    .dataframe tbody tr th {\n",
       "        vertical-align: top;\n",
       "    }\n",
       "\n",
       "    .dataframe thead th {\n",
       "        text-align: right;\n",
       "    }\n",
       "</style>\n",
       "<table border=\"1\" class=\"dataframe\">\n",
       "  <thead>\n",
       "    <tr style=\"text-align: right;\">\n",
       "      <th></th>\n",
       "      <th>FEN</th>\n",
       "      <th>Evaluation</th>\n",
       "      <th>Move</th>\n",
       "    </tr>\n",
       "  </thead>\n",
       "  <tbody>\n",
       "    <tr>\n",
       "      <th>0</th>\n",
       "      <td>r2qkbr1/pb1nn3/1ppp3p/8/3P1p2/2PB1N1P/PPQN1PP1...</td>\n",
       "      <td>#+2</td>\n",
       "      <td>d3g6</td>\n",
       "    </tr>\n",
       "    <tr>\n",
       "      <th>1</th>\n",
       "      <td>r2qkb2/pb1nn3/1ppp2rp/8/3P1p2/2P2N1P/PPQN1PP1/...</td>\n",
       "      <td>#+1</td>\n",
       "      <td>c2g6</td>\n",
       "    </tr>\n",
       "    <tr>\n",
       "      <th>2</th>\n",
       "      <td>r2qkbr1/pb1nn3/1ppp2Bp/8/3P1p2/2P2N1P/PPQN1PP1...</td>\n",
       "      <td>#+1</td>\n",
       "      <td>g8g6</td>\n",
       "    </tr>\n",
       "    <tr>\n",
       "      <th>3</th>\n",
       "      <td>8/7p/R5p1/2p1pkP1/7P/P4PK1/1r6/3q4 w - - 6 46</td>\n",
       "      <td>#+1</td>\n",
       "      <td>a6f6</td>\n",
       "    </tr>\n",
       "    <tr>\n",
       "      <th>4</th>\n",
       "      <td>6k1/pp6/3p4/2p1p3/2P1P1q1/1P1P2pP/P5P1/5K2 w -...</td>\n",
       "      <td>+408</td>\n",
       "      <td>h3g4</td>\n",
       "    </tr>\n",
       "  </tbody>\n",
       "</table>\n",
       "</div>"
      ],
      "text/plain": [
       "                                                 FEN Evaluation  Move\n",
       "0  r2qkbr1/pb1nn3/1ppp3p/8/3P1p2/2PB1N1P/PPQN1PP1...        #+2  d3g6\n",
       "1  r2qkb2/pb1nn3/1ppp2rp/8/3P1p2/2P2N1P/PPQN1PP1/...        #+1  c2g6\n",
       "2  r2qkbr1/pb1nn3/1ppp2Bp/8/3P1p2/2P2N1P/PPQN1PP1...        #+1  g8g6\n",
       "3      8/7p/R5p1/2p1pkP1/7P/P4PK1/1r6/3q4 w - - 6 46        #+1  a6f6\n",
       "4  6k1/pp6/3p4/2p1p3/2P1P1q1/1P1P2pP/P5P1/5K2 w -...       +408  h3g4"
      ]
     },
     "execution_count": 138,
     "metadata": {},
     "output_type": "execute_result"
    }
   ],
   "source": [
    "data.head()"
   ]
  },
  {
   "cell_type": "markdown",
   "id": "01cfc0a2",
   "metadata": {},
   "source": [
    "# FEN Notation to Vector\n",
    "    #piece placement - lowercase for black pieces, uppercase for white pieces. numbers represent consequtive spaces. / represents a new row \n",
    "    # active color - whose turn it is, either 'w' or 'b'\n",
    "    # castling rights - which castling moves are still legal K or k for kingside and Q or q for queenside, '-' if no legal castling moves for either player\n",
    "    # en passant - if the last move was a pawn moving up two squares, this is the space behind the square for the purposes of en passant\n",
    "    # halfmove clock - number of moves without a pawn move or piece capture, after 50 of which the game is a draw\n",
    "    # fullmove number - number of full turns starting at 1, increments after black's move"
   ]
  },
  {
   "cell_type": "code",
   "execution_count": 141,
   "id": "8844a0ac",
   "metadata": {},
   "outputs": [],
   "source": [
    "import numpy as np\n",
    "import re\n",
    "import chess\n",
    "\n",
    "def fen_to_bit_vector(fen):\n",
    "    parts = re.split(\" \", fen)\n",
    "    piece_placement = re.split(\"/\", parts[0])\n",
    "    active_color = parts[1]\n",
    "    castling_rights = parts[2]\n",
    "    en_passant = parts[3]\n",
    "    halfmove_clock = int(parts[4])\n",
    "    fullmove_clock = int(parts[5])\n",
    "\n",
    "    bit_vector = np.zeros((14, 8, 8), dtype=np.uint8)\n",
    "\n",
    "    # piece to layer structure taken from reference [1]\n",
    "    piece_to_layer = {\n",
    "        'P': 0, 'N': 1, 'B': 2, 'R': 3, 'Q': 4, 'K': 5,\n",
    "        'p': 6, 'n': 7, 'b': 8, 'r': 9, 'q': 10, 'k': 11\n",
    "    }\n",
    "\n",
    "    for r, row in enumerate(piece_placement):\n",
    "        c = 0\n",
    "        for piece in row:\n",
    "            if piece in piece_to_layer:\n",
    "                bit_vector[piece_to_layer[piece], r, c] = 1\n",
    "                c += 1\n",
    "            else:\n",
    "                c += int(piece)\n",
    "\n",
    "    # Encode castling rights in a specific layer (layer 12)\n",
    "    castling_positions = {'K': (7, 7), 'Q': (7, 0), 'k': (0, 7), 'q': (0, 0)}\n",
    "    for right in castling_rights:\n",
    "        if right in castling_positions:\n",
    "            bit_vector[12, castling_positions[right][0], castling_positions[right][1]] = 1\n",
    "\n",
    "    # Encode en passant square (layer 13)\n",
    "    if en_passant != '-':\n",
    "        en_passant_index = chess.parse_square(en_passant)\n",
    "        ep_row, ep_col = np.unravel_index(en_passant_index, (8, 8))\n",
    "        bit_vector[13, 7 - ep_row, ep_col] = 1\n",
    "\n",
    "    return bit_vector"
   ]
  },
  {
   "cell_type": "code",
   "execution_count": 142,
   "id": "dd5a10d9",
   "metadata": {},
   "outputs": [],
   "source": [
    "def standardize_evaluation(value, min_value, max_value):\n",
    "    try:\n",
    "        value = float(value)\n",
    "    except ValueError:\n",
    "        cleaned_value = value.lstrip('#')\n",
    "        try:\n",
    "            numeric_value = float(cleaned_value)\n",
    "            value = numeric_value * 15000\n",
    "        except ValueError:\n",
    "            print(\"cannot clean\")\n",
    "    standardized_value = (value - min_value) / (max_value - min_value)\n",
    "    return standardized_value"
   ]
  },
  {
   "cell_type": "code",
   "execution_count": 143,
   "id": "d970c3a2",
   "metadata": {},
   "outputs": [],
   "source": [
    "def square_to_index(square):\n",
    "    letter = chess.square_name(square)\n",
    "    row = 8 - int(letter[1])\n",
    "    column = board_positions[letter[0]]\n",
    "    return row, column"
   ]
  },
  {
   "cell_type": "code",
   "execution_count": 144,
   "id": "983e13ff",
   "metadata": {},
   "outputs": [],
   "source": [
    "def boards_to_matrices_batch(boards):\n",
    "    batch_size = len(boards)\n",
    "    board_3d_batch = np.zeros((batch_size, 14, 8, 8), dtype=np.int8)\n",
    "\n",
    "    for b_idx, board in enumerate(boards):\n",
    "        for piece in chess.PIECE_TYPES:\n",
    "            for square in board.pieces(piece, chess.WHITE):\n",
    "                index = np.unravel_index(square, (8, 8))\n",
    "                board_3d_batch[b_idx, piece - 1, 7 - index[0], index[1]] = 1\n",
    "            for square in board.pieces(piece, chess.BLACK):\n",
    "                index = np.unravel_index(square, (8, 8))\n",
    "                board_3d_batch[b_idx, piece + 5, 7 - index[0], index[1]] = 1\n",
    "\n",
    "        aux = board.turn\n",
    "        board.turn = chess.WHITE\n",
    "        for move in board.legal_moves:\n",
    "            i, j = np.unravel_index(move.to_square, (8, 8))\n",
    "            board_3d_batch[b_idx, 12, 7 - i, j] = 1\n",
    "\n",
    "        board.turn = chess.BLACK\n",
    "        for move in board.legal_moves:\n",
    "            i, j = np.unravel_index(move.to_square, (8, 8))\n",
    "            board_3d_batch[b_idx, 13, 7 - i, j] = 1\n",
    "\n",
    "        board.turn = aux\n",
    "\n",
    "    return board_3d_batch"
   ]
  },
  {
   "cell_type": "code",
   "execution_count": 150,
   "id": "ff234e5d",
   "metadata": {},
   "outputs": [],
   "source": [
    "def process_batch(batch):\n",
    "    valid_rows = batch.dropna(subset=['FEN', 'Evaluation'])\n",
    "    y_evaluation = valid_rows['Evaluation'].apply(standardize_evaluation, args=(-10000, 10000)).values\n",
    "\n",
    "    feature_boards = []\n",
    "    for fen in valid_rows['FEN']:\n",
    "        bit_vector = fen_to_bit_vector(fen)\n",
    "        feature_boards.append(bit_vector)\n",
    "    \n",
    "    feature_board = np.stack(feature_boards, axis=0)\n",
    "    return feature_board, y_evaluation"
   ]
  },
  {
   "cell_type": "code",
   "execution_count": 151,
   "id": "4ff61aca",
   "metadata": {},
   "outputs": [],
   "source": [
    "feature_board, y_evaluation = process_batch(data)"
   ]
  },
  {
   "cell_type": "code",
   "execution_count": 152,
   "id": "6f60081d",
   "metadata": {},
   "outputs": [
    {
     "name": "stdout",
     "output_type": "stream",
     "text": [
      "Feature board shape: (2628219, 14, 8, 8)\n",
      "Evaluations shape: (2628219,)\n"
     ]
    }
   ],
   "source": [
    "print(\"Feature board shape:\", feature_board.shape)\n",
    "print(\"Evaluations shape:\", y_evaluation.shape)"
   ]
  },
  {
   "cell_type": "code",
   "execution_count": 165,
   "id": "c143ca1f",
   "metadata": {},
   "outputs": [],
   "source": [
    "def create_model(input_shape):\n",
    "    model = models.Sequential([\n",
    "          layers.Conv2D(32, kernel_size=(3, 3), activation='relu', input_shape=input_shape, padding='same'),\n",
    "          layers.MaxPooling2D(pool_size=(2, 2)),\n",
    "          layers.Conv2D(64, kernel_size=(3, 3), activation='relu', padding='same'),\n",
    "          layers.MaxPooling2D(pool_size=(2, 2)),\n",
    "          layers.Flatten(),\n",
    "          layers.Dense(128, activation='relu'),\n",
    "          layers.Dense(1, activation='sigmoid')  # Output layer with sigmoid for advantage score\n",
    "      ])\n",
    "\n",
    "    model.compile(loss='mse', optimizer='adam', metrics=['mse'])\n",
    "    return model\n",
    "\n",
    "# Create and compile the model\n",
    "model = create_model(input_shape)\n"
   ]
  },
  {
   "cell_type": "code",
   "execution_count": 166,
   "id": "54e6dfa9",
   "metadata": {},
   "outputs": [],
   "source": [
    "# Assuming you have your training data prepared as bit vectors and advantage scores\n",
    "X_train, X_test, y_train, y_test = train_test_split(feature_board, y_evaluation, test_size=0.2, random_state=42)  \n",
    "\n",
    "# Get input shape from training data\n",
    "input_shape = X_train.shape[1:]"
   ]
  },
  {
   "cell_type": "code",
   "execution_count": 176,
   "id": "50546c9d",
   "metadata": {},
   "outputs": [
    {
     "name": "stderr",
     "output_type": "stream",
     "text": [
      "C:\\Users\\Admin\\AppData\\Roaming\\Python\\Python39\\site-packages\\keras\\src\\layers\\convolutional\\base_conv.py:99: UserWarning: Do not pass an `input_shape`/`input_dim` argument to a layer. When using Sequential models, prefer using an `Input(shape)` object as the first layer in the model instead.\n",
      "  super().__init__(\n"
     ]
    },
    {
     "name": "stdout",
     "output_type": "stream",
     "text": [
      "Epoch 1/10\n",
      "\u001b[1m65706/65706\u001b[0m \u001b[32m━━━━━━━━━━━━━━━━━━━━\u001b[0m\u001b[37m\u001b[0m \u001b[1m458s\u001b[0m 7ms/step - loss: 0.0935 - mse: 0.0935 - val_loss: 0.0889 - val_mse: 0.0889\n",
      "Epoch 2/10\n",
      "\u001b[1m65706/65706\u001b[0m \u001b[32m━━━━━━━━━━━━━━━━━━━━\u001b[0m\u001b[37m\u001b[0m \u001b[1m394s\u001b[0m 6ms/step - loss: 0.0880 - mse: 0.0880 - val_loss: 0.0885 - val_mse: 0.0885\n",
      "Epoch 3/10\n",
      "\u001b[1m65706/65706\u001b[0m \u001b[32m━━━━━━━━━━━━━━━━━━━━\u001b[0m\u001b[37m\u001b[0m \u001b[1m439s\u001b[0m 7ms/step - loss: 0.0861 - mse: 0.0861 - val_loss: 0.0875 - val_mse: 0.0875\n",
      "Epoch 4/10\n",
      "\u001b[1m65706/65706\u001b[0m \u001b[32m━━━━━━━━━━━━━━━━━━━━\u001b[0m\u001b[37m\u001b[0m \u001b[1m373s\u001b[0m 6ms/step - loss: 0.0851 - mse: 0.0851 - val_loss: 0.0867 - val_mse: 0.0867\n",
      "Epoch 5/10\n",
      "\u001b[1m65706/65706\u001b[0m \u001b[32m━━━━━━━━━━━━━━━━━━━━\u001b[0m\u001b[37m\u001b[0m \u001b[1m550s\u001b[0m 8ms/step - loss: 0.0854 - mse: 0.0854 - val_loss: 0.0868 - val_mse: 0.0868\n",
      "Epoch 6/10\n",
      "\u001b[1m65706/65706\u001b[0m \u001b[32m━━━━━━━━━━━━━━━━━━━━\u001b[0m\u001b[37m\u001b[0m \u001b[1m577s\u001b[0m 9ms/step - loss: 0.0846 - mse: 0.0846 - val_loss: 0.0862 - val_mse: 0.0861\n",
      "Epoch 7/10\n",
      "\u001b[1m65706/65706\u001b[0m \u001b[32m━━━━━━━━━━━━━━━━━━━━\u001b[0m\u001b[37m\u001b[0m \u001b[1m1066s\u001b[0m 16ms/step - loss: 0.0831 - mse: 0.0831 - val_loss: 0.0868 - val_mse: 0.0868\n",
      "Epoch 8/10\n",
      "\u001b[1m65706/65706\u001b[0m \u001b[32m━━━━━━━━━━━━━━━━━━━━\u001b[0m\u001b[37m\u001b[0m \u001b[1m815s\u001b[0m 12ms/step - loss: 0.0845 - mse: 0.0845 - val_loss: 0.0867 - val_mse: 0.0867\n",
      "Epoch 9/10\n",
      "\u001b[1m65706/65706\u001b[0m \u001b[32m━━━━━━━━━━━━━━━━━━━━\u001b[0m\u001b[37m\u001b[0m \u001b[1m817s\u001b[0m 12ms/step - loss: 0.0842 - mse: 0.0842 - val_loss: 0.0863 - val_mse: 0.0862\n",
      "Epoch 10/10\n",
      "\u001b[1m65706/65706\u001b[0m \u001b[32m━━━━━━━━━━━━━━━━━━━━\u001b[0m\u001b[37m\u001b[0m \u001b[1m639s\u001b[0m 10ms/step - loss: 0.0850 - mse: 0.0850 - val_loss: 0.0876 - val_mse: 0.0876\n"
     ]
    }
   ],
   "source": [
    "model = create_model(input_shape)\n",
    "history=model.fit(X_train, y_train, epochs=10, validation_data=(X_test, y_test))"
   ]
  },
  {
   "cell_type": "code",
   "execution_count": 168,
   "id": "3a36ec5f",
   "metadata": {},
   "outputs": [
    {
     "name": "stdout",
     "output_type": "stream",
     "text": [
      "\u001b[1m16427/16427\u001b[0m \u001b[32m━━━━━━━━━━━━━━━━━━━━\u001b[0m\u001b[37m\u001b[0m \u001b[1m40s\u001b[0m 2ms/step - loss: 0.0860 - mse: 0.0860\n",
      "Test Loss (MSE): 0.08653480559587479\n",
      "Test Mean Absolute Error (MAE): 0.08652818948030472\n"
     ]
    }
   ],
   "source": [
    "# Evaluate the model on the test set\n",
    "loss, mae = model.evaluate(X_test, y_test)\n",
    "print(\"Test Loss (MSE):\", loss)\n",
    "print(\"Test Mean Absolute Error (MAE):\", mae)"
   ]
  },
  {
   "cell_type": "code",
   "execution_count": 171,
   "id": "763fc681",
   "metadata": {},
   "outputs": [
    {
     "name": "stdout",
     "output_type": "stream",
     "text": [
      "\u001b[1m16427/16427\u001b[0m \u001b[32m━━━━━━━━━━━━━━━━━━━━\u001b[0m\u001b[37m\u001b[0m \u001b[1m48s\u001b[0m 3ms/step\n",
      "Test Mean Squared Error (MSE): 0.0865283921490882\n",
      "Test Mean Absolute Error (MAE): 0.11756262653893428\n"
     ]
    }
   ],
   "source": [
    "# Predict the evaluations on the test set\n",
    "y_pred = model.predict(X_test)\n",
    "\n",
    "# Calculate additional metrics\n",
    "mse = mean_squared_error(y_test, y_pred)\n",
    "mae = mean_absolute_error(y_test, y_pred)\n",
    "print(\"Test Mean Squared Error (MSE):\", mse)\n",
    "print(\"Test Mean Absolute Error (MAE):\", mae)"
   ]
  },
  {
   "cell_type": "code",
   "execution_count": 177,
   "id": "a0fa07ce",
   "metadata": {},
   "outputs": [
    {
     "data": {
      "image/png": "[encoded data removed]",
      "text/plain": [
       "<Figure size 640x480 with 1 Axes>"
      ]
     },
     "metadata": {},
     "output_type": "display_data"
    }
   ],
   "source": [
    "plt.plot(history.history['mse'], label='Training MSE')\n",
    "plt.plot(history.history['val_mse'], label='Validation MSE')\n",
    "plt.title('Training and Validation MSE')\n",
    "plt.xlabel('Epochs')\n",
    "plt.ylabel('MSE')\n",
    "plt.legend()\n",
    "plt.show()"
   ]
  },
  {
   "cell_type": "code",
   "execution_count": 178,
   "id": "55b37970",
   "metadata": {},
   "outputs": [
    {
     "name": "stdout",
     "output_type": "stream",
     "text": [
      "\u001b[1m1/1\u001b[0m \u001b[32m━━━━━━━━━━━━━━━━━━━━\u001b[0m\u001b[37m\u001b[0m \u001b[1m0s\u001b[0m 155ms/step\n",
      "Predicted Evaluation: 0.5018922090530396\n"
     ]
    }
   ],
   "source": [
    "fen = 'r1bqkbnr/pppp1ppp/2n5/4p3/4P3/5N2/PPPP1PPP/RNBQKB1R w KQkq - 2 4'\n",
    "\n",
    "# Preprocess the FEN string\n",
    "bit_vector = fen_to_bit_vector(fen)\n",
    "bit_vector = np.expand_dims(bit_vector, axis=0)  # Add batch dimension\n",
    "\n",
    "# Predict the evaluation\n",
    "predicted_evaluation = model.predict(bit_vector)\n",
    "print(f\"Predicted Evaluation: {predicted_evaluation[0][0]}\")\n"
   ]
  },
  {
   "cell_type": "markdown",
   "id": "3dbb4a57",
   "metadata": {},
   "source": [
    "References\n",
    "https://www.kaggle.com/code/utadcm0927/chess-position-evaluator"
   ]
  }
 ],
 "metadata": {
  "kernelspec": {
   "display_name": "Python 3 (ipykernel)",
   "language": "python",
   "name": "python3"
  },
  "language_info": {
   "codemirror_mode": {
    "name": "ipython",
    "version": 3
   },
   "file_extension": ".py",
   "mimetype": "text/x-python",
   "name": "python",
   "nbconvert_exporter": "python",
   "pygments_lexer": "ipython3",
   "version": "3.9.13"
  }
 },
 "nbformat": 4,
 "nbformat_minor": 5
}
