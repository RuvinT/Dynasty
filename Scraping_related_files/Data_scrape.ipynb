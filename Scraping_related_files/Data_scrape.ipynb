{
 "cells": [
  {
   "cell_type": "code",
   "execution_count": 2,
   "id": "d833f670-dc17-46ed-9a13-b5a7419bdf21",
   "metadata": {},
   "outputs": [
    {
     "name": "stdout",
     "output_type": "stream",
     "text": [
      "An error occurred: name 'WebDriverWait' is not defined\n"
     ]
    }
   ],
   "source": [
    "\n",
    "from selenium import webdriver\n",
    "from selenium.webdriver.chrome.options import Options\n",
    "import os\n",
    "from selenium.webdriver.common.by import By\n",
    "from selenium.webdriver.support.ui import WebDriverWait\n",
    "from selenium.webdriver.support import expected_conditions as EC\n",
    "import time\n",
    "from selenium.common.exceptions import TimeoutException, NoSuchElementException\n",
    "\n",
    "def scrape_magnus_data(driver):\n",
    "\n",
    "    try:\n",
    "        profile_element = WebDriverWait(driver, 10).until(\n",
    "            EC.presence_of_element_located((By.CLASS_NAME, \"theme-background\"))\n",
    "        )\n",
    "\n",
    "        time.sleep(5)\n",
    "        # Find and click the checkbox to select all games\n",
    "        checkbox = driver.find_element(By.ID, \"master-games-check-all\")\n",
    "        checkbox.click()\n",
    "\n",
    "        \n",
    "        time.sleep(5)\n",
    "        # Click the download butto\n",
    "        download_button = driver.find_element(By.CLASS_NAME, \"master-games-download-button\")\n",
    "        download_button.click()\n",
    "\n",
    "        \n",
    "\n",
    "    except TimeoutException:\n",
    "        print(\"Timeout occurred while waiting for elements to load.\")\n",
    "\n",
    "    except NoSuchElementException as e:\n",
    "        print(f\"Element not found: {e}\")\n",
    "\n",
    "\n",
    "# Set the download directory\n",
    "download_dir = \"/Users/ruvinjagoda/Desktop/Aka/AIP/Code_scrape/Downloads\"\n",
    "\n",
    "# Initialize Chrome webdriver with download options\n",
    "options = Options()\n",
    "options.headless = True  # To run Chrome in headless mode (without opening a browser window)\n",
    "prefs = {\"download.default_directory\": download_dir}\n",
    "options.add_experimental_option(\"prefs\", prefs)\n",
    "driver = webdriver.Chrome(options=options)\n",
    "\n",
    "\n",
    "try:\n",
    "    \n",
    "    for page_number in range(1,98):\n",
    "        # Navigate to the page containing Magnus Carlsen's games\n",
    "        driver.get(f'https://www.chess.com/games/search?fromSearchShort=1&p1=Magnus%20Carlsen&playerId=822231&page={page_number}')\n",
    "\n",
    "        # Call the function to scrape data for the current page\n",
    "        scrape_magnus_data(driver)\n",
    "        time.sleep(10)\n",
    "        print(\"scraped from page : \",page_number)\n",
    "\n",
    "except Exception as e:\n",
    "    print(f\"An error occurred: {e}\")\n",
    "\n",
    "finally:\n",
    "    # Close the WebDriver\n",
    "    driver.quit()\n"
   ]
  }
 ],
 "metadata": {
  "kernelspec": {
   "display_name": "Python 3 (ipykernel)",
   "language": "python",
   "name": "python3"
  },
  "language_info": {
   "codemirror_mode": {
    "name": "ipython",
    "version": 3
   },
   "file_extension": ".py",
   "mimetype": "text/x-python",
   "name": "python",
   "nbconvert_exporter": "python",
   "pygments_lexer": "ipython3",
   "version": "3.11.5"
  }
 },
 "nbformat": 4,
 "nbformat_minor": 5
}
