{
 "cells": [
  {
   "cell_type": "code",
   "execution_count": null,
   "id": "01643c21-72e3-454b-9b30-d865d130bd7b",
   "metadata": {},
   "outputs": [],
   "source": [
    "import chess.pgn\n",
    "import pandas as pd\n",
    "import os\n",
    "\n",
    "def extract_game_data(pgn_file_path):\n",
    "    games = []\n",
    "    all_headers = set(['Event', 'Date', 'Round', 'White', 'Black', 'Result', 'TimeControl', 'WhiteElo', 'BlackElo', 'WhiteClock', 'BlackClock', 'Variant'])\n",
    "\n",
    "    with open(pgn_file_path) as pgn_file:\n",
    "        while True:\n",
    "            game = chess.pgn.read_game(pgn_file)\n",
    "            if game is None:\n",
    "                break\n",
    "\n",
    "            headers = dict(game.headers)\n",
    "            game_data = {key: headers.get(key, '') for key in all_headers}\n",
    "            game_data['Mainline Moves'] = str(game.mainline_moves())\n",
    "\n",
    "            games.append(game_data)\n",
    "\n",
    "    return games, all_headers\n",
    "\n",
    "def create_dataframe(games, all_headers):\n",
    "    # Convert the set of all headers to a list\n",
    "    all_headers = list(all_headers)\n",
    "    all_headers.append('Mainline Moves')  # Ensure 'Mainline Moves' is included in the columns\n",
    "\n",
    "    # Create a DataFrame with all headers as columns\n",
    "    df = pd.DataFrame(games, columns=all_headers)\n",
    "    return df\n",
    "\n",
    "def main():\n",
    "    pgn_files_folder = '/Users/ruvinjagoda/Desktop/Aka/AIP/Code_scrape/Downloads/'\n",
    "    output_csv_file = 'all_chess_games.csv'\n",
    "\n",
    "    all_games = []\n",
    "    all_headers = set()\n",
    "\n",
    "    # Loop through all files in the specified directory\n",
    "    for filename in os.listdir(pgn_files_folder):\n",
    "        if filename.endswith('.pgn'):\n",
    "            pgn_file_path = os.path.join(pgn_files_folder, filename)\n",
    "            games, headers = extract_game_data(pgn_file_path)\n",
    "            all_games.extend(games)\n",
    "            all_headers.update(headers)\n",
    "\n",
    "    df = create_dataframe(all_games, all_headers)\n",
    "\n",
    "    # Save the DataFrame to a CSV file\n",
    "    df.to_csv(output_csv_file, index=False)\n",
    "    print(f\"All PGN files have been processed and saved to '{output_csv_file}'.\")\n",
    "\n",
    "if __name__ == '__main__':\n",
    "    main()\n"
   ]
  }
 ],
 "metadata": {
  "kernelspec": {
   "display_name": "Python 3 (ipykernel)",
   "language": "python",
   "name": "python3"
  },
  "language_info": {
   "codemirror_mode": {
    "name": "ipython",
    "version": 3
   },
   "file_extension": ".py",
   "mimetype": "text/x-python",
   "name": "python",
   "nbconvert_exporter": "python",
   "pygments_lexer": "ipython3",
   "version": "3.11.5"
  }
 },
 "nbformat": 4,
 "nbformat_minor": 5
}
