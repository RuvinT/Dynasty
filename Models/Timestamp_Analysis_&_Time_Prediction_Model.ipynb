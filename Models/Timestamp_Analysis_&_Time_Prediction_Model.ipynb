{
 "cells": [
  {
   "cell_type": "markdown",
   "id": "e2f740c8-5c15-4967-b6cf-388decdffa82",
   "metadata": {},
   "source": [
    "# EDA"
   ]
  },
  {
   "cell_type": "code",
   "execution_count": 2,
   "id": "62264d5b-4d55-41dd-832e-44cae66db301",
   "metadata": {},
   "outputs": [],
   "source": [
    "import chess\n",
    "import chess.pgn\n",
    "import pandas as pd\n",
    "import numpy as np"
   ]
  },
  {
   "cell_type": "code",
   "execution_count": 3,
   "id": "18deda05",
   "metadata": {},
   "outputs": [],
   "source": [
    "# Define the path to the PGN file\n",
    "pgn_file_path = r'C:\\Users\\edulo\\OneDrive\\Documentos\\Loyalist\\AIP\\Week 5\\ds\\ficsgamesdb_2023_standard2000_movetimes_390744.pgn'\n",
    "\n",
    "# Function to convert time string to seconds\n",
    "def convert_time_to_seconds(time_str):\n",
    "    try:\n",
    "        if ':' in time_str:\n",
    "            h, m, s = map(float, time_str.split(':'))\n",
    "            return h * 3600 + m * 60 + s\n",
    "        return float(time_str)  # Handle cases where only seconds are provided\n",
    "    except:\n",
    "        return 0  # Default to 0 if conversion fails\n",
    "\n",
    "# Initializing lists to store game data\n",
    "games_data = []\n",
    "\n",
    "# Open the PGN file and parse games\n",
    "with open(pgn_file_path, 'r', encoding='utf-8-sig') as pgn_file:\n",
    "    while True:\n",
    "        game = chess.pgn.read_game(pgn_file)\n",
    "        if game is None:\n",
    "            break\n",
    "\n",
    "        game_info = {\n",
    "            'Event': game.headers.get('Event'),\n",
    "            'Site': game.headers.get('Site'),\n",
    "            'Date': game.headers.get('Date'),\n",
    "            'White': game.headers.get('White'),\n",
    "            'Black': game.headers.get('Black'),\n",
    "            'WhiteElo': int(game.headers.get('WhiteElo', 0)),\n",
    "            'BlackElo': int(game.headers.get('BlackElo', 0)),\n",
    "            'TimeControl': game.headers.get('TimeControl'),\n",
    "            'Result': game.headers.get('Result'),\n",
    "            'PlyCount': int(game.headers.get('PlyCount', 0)),\n",
    "            'ECO': game.headers.get('ECO', 'Unknown'),\n",
    "            'Moves': [],\n",
    "            'Times': []\n",
    "        }\n",
    "\n",
    "        # Extract moves and times\n",
    "        node = game\n",
    "        while not node.is_end():\n",
    "            next_node = node.variation(0)\n",
    "            move = node.board().san(next_node.move)\n",
    "            move_time = next_node.comment.replace('[%emt ', '').replace(']', '').strip()\n",
    "            game_info['Moves'].append(move)\n",
    "            game_info['Times'].append(move_time if move_time else '0:00:00')  # Default to '0:00:00' if empty\n",
    "            node = next_node\n",
    "\n",
    "        games_data.append(game_info)\n",
    "\n",
    "# Convert to DataFrame\n",
    "df = pd.DataFrame(games_data)"
   ]
  },
  {
   "cell_type": "code",
   "execution_count": 4,
   "id": "c8442d97",
   "metadata": {},
   "outputs": [
    {
     "name": "stdout",
     "output_type": "stream",
     "text": [
      "Total number of games: 19686\n"
     ]
    }
   ],
   "source": [
    "total_games = len(df)\n",
    "print(f'Total number of games: {total_games}')"
   ]
  },
  {
   "cell_type": "code",
   "execution_count": 5,
   "id": "70fc1d57",
   "metadata": {},
   "outputs": [
    {
     "name": "stdout",
     "output_type": "stream",
     "text": [
      "Average time for the first 5 moves: 2.2389591587930506 seconds\n",
      "Average time for the first 10 moves: 3.982530913919972 seconds\n",
      "Average time for the first 20 moves: 8.703011332299685 seconds\n"
     ]
    }
   ],
   "source": [
    "df['Times'] = df['Times'].apply(lambda x: [convert_time_to_seconds(t) for t in x])\n",
    "\n",
    "def average_time(moves, times):\n",
    "    valid_times = [t for t in times[:moves] if t is not None]\n",
    "    return sum(valid_times) / len(valid_times) if valid_times else 0\n",
    "\n",
    "df['AvgTimeFirst5'] = df['Times'].apply(lambda x: average_time(5, x))\n",
    "df['AvgTimeFirst10'] = df['Times'].apply(lambda x: average_time(10, x))\n",
    "df['AvgTimeFirst20'] = df['Times'].apply(lambda x: average_time(20, x))\n",
    "\n",
    "avg_time_first_5 = df['AvgTimeFirst5'].mean()\n",
    "avg_time_first_10 = df['AvgTimeFirst10'].mean()\n",
    "avg_time_first_20 = df['AvgTimeFirst20'].mean()\n",
    "\n",
    "print(f'Average time for the first 5 moves: {avg_time_first_5} seconds')\n",
    "print(f'Average time for the first 10 moves: {avg_time_first_10} seconds')\n",
    "print(f'Average time for the first 20 moves: {avg_time_first_20} seconds')"
   ]
  },
  {
   "cell_type": "code",
   "execution_count": 6,
   "id": "6ea7f21d-68a2-43f8-8118-f432d87a80d7",
   "metadata": {},
   "outputs": [
    {
     "name": "stdout",
     "output_type": "stream",
     "text": [
      "Average game duration: 1432.0949405669003 seconds\n",
      "Result distribution:\n",
      "Result\n",
      "1-0        8509\n",
      "0-1        8293\n",
      "1/2-1/2    2884\n",
      "Name: count, dtype: int64\n",
      "Correlation between White Elo and average move time: 0.26123117089315456\n",
      "Correlation between Black Elo and average move time: 0.23247738331719875\n"
     ]
    }
   ],
   "source": [
    "# Average game duration\n",
    "df['GameDuration'] = df['Times'].apply(lambda x: sum(t for t in x if t is not None))\n",
    "avg_game_duration = df['GameDuration'].mean()\n",
    "print(f'Average game duration: {avg_game_duration} seconds')\n",
    "\n",
    "# Distribution of results\n",
    "result_distribution = df['Result'].value_counts()\n",
    "print('Result distribution:')\n",
    "print(result_distribution)\n",
    "\n",
    "# Impact of Elo ratings on move times\n",
    "df['AvgMoveTime'] = df['GameDuration'] / df['PlyCount']\n",
    "df['WhiteElo'] = df['WhiteElo'].fillna(0)\n",
    "df['BlackElo'] = df['BlackElo'].fillna(0)\n",
    "df['AvgMoveTime'] = df['AvgMoveTime'].fillna(0)\n",
    "\n",
    "correlation_white_elo = df[['WhiteElo', 'AvgMoveTime']].corr().iloc[0, 1]\n",
    "correlation_black_elo = df[['BlackElo', 'AvgMoveTime']].corr().iloc[0, 1]\n",
    "\n",
    "print(f'Correlation between White Elo and average move time: {correlation_white_elo}')\n",
    "print(f'Correlation between Black Elo and average move time: {correlation_black_elo}')"
   ]
  },
  {
   "cell_type": "code",
   "execution_count": 7,
   "id": "7dacd974-4afb-4610-b286-5339d6f47fd5",
   "metadata": {},
   "outputs": [
    {
     "name": "stdout",
     "output_type": "stream",
     "text": [
      "Average time for the last 5 moves: 10.413364747834947 seconds\n",
      "Average time for the last 10 moves: 13.345333854886833 seconds\n",
      "Average time for the last 20 moves: 15.405088185820254 seconds\n"
     ]
    }
   ],
   "source": [
    "def average_time_last(moves, times):\n",
    "    valid_times = [t for t in times[-moves:] if t is not None]\n",
    "    return sum(valid_times) / len(valid_times) if valid_times else None\n",
    "\n",
    "df['AvgTimeLast5'] = df['Times'].apply(lambda x: average_time_last(5, x))\n",
    "df['AvgTimeLast10'] = df['Times'].apply(lambda x: average_time_last(10, x))\n",
    "df['AvgTimeLast20'] = df['Times'].apply(lambda x: average_time_last(20, x))\n",
    "\n",
    "avg_time_last_5 = df['AvgTimeLast5'].mean()\n",
    "avg_time_last_10 = df['AvgTimeLast10'].mean()\n",
    "avg_time_last_20 = df['AvgTimeLast20'].mean()\n",
    "\n",
    "print(f'Average time for the last 5 moves: {avg_time_last_5} seconds')\n",
    "print(f'Average time for the last 10 moves: {avg_time_last_10} seconds')\n",
    "print(f'Average time for the last 20 moves: {avg_time_last_20} seconds')"
   ]
  },
  {
   "cell_type": "code",
   "execution_count": 8,
   "id": "2f7c9ed8-07bc-4cf5-ad4b-be0051e0fea9",
   "metadata": {},
   "outputs": [
    {
     "data": {
      "image/png": "[encoded data removed]",
      "text/plain": [
       "<Figure size 1000x600 with 1 Axes>"
      ]
     },
     "metadata": {},
     "output_type": "display_data"
    }
   ],
   "source": [
    "import matplotlib.pyplot as plt\n",
    "\n",
    "# Plotting distribution of move times\n",
    "plt.figure(figsize=(10, 6))\n",
    "plt.hist(df['Times'].explode().dropna().astype(float), bins=range(0, 101), color='skyblue', edgecolor='black')\n",
    "plt.title('Distribution of Move Times')\n",
    "plt.xlabel('Time (seconds)')\n",
    "plt.ylabel('Frequency')\n",
    "plt.grid(True)\n",
    "plt.xlim(0, 100)  # Set the x-axis limits\n",
    "plt.show()\n"
   ]
  },
  {
   "cell_type": "code",
   "execution_count": 9,
   "id": "6b87344c-cfac-49ac-8f03-e2e36e198fcb",
   "metadata": {},
   "outputs": [
    {
     "data": {
      "image/png": "[encoded data removed]",
      "text/plain": [
       "<Figure size 800x400 with 1 Axes>"
      ]
     },
     "metadata": {},
     "output_type": "display_data"
    }
   ],
   "source": [
    "# Plotting average move times\n",
    "move_counts = [5, 10, 20]\n",
    "avg_times = [avg_time_first_5, avg_time_first_10, avg_time_first_20]\n",
    "plt.figure(figsize=(8, 4))\n",
    "plt.bar(move_counts, avg_times, color='orange')\n",
    "plt.title('Average Move Times for Different Move Counts')\n",
    "plt.xlabel('Number of Moves')\n",
    "plt.ylabel('Average Time (seconds)')\n",
    "plt.xticks(move_counts)\n",
    "plt.grid(axis='y')\n",
    "plt.show()"
   ]
  },
  {
   "cell_type": "code",
   "execution_count": 10,
   "id": "58d99c13-23b5-4b07-b3be-5ab341d6bfc4",
   "metadata": {},
   "outputs": [
    {
     "name": "stdout",
     "output_type": "stream",
     "text": [
      "Total number of moves in the file: 1600300\n",
      "Number of moves made in 0 seconds: 309581\n"
     ]
    }
   ],
   "source": [
    "# Total number of moves\n",
    "total_moves = sum(df['PlyCount'])\n",
    "print(f'Total number of moves in the file: {total_moves}')\n",
    "\n",
    "# Count of moves made in 0 seconds\n",
    "zero_second_moves = sum(1 for moves in df['Times'] for move in moves if move == 0)\n",
    "print(f'Number of moves made in 0 seconds: {zero_second_moves}')"
   ]
  },
  {
   "cell_type": "code",
   "execution_count": 11,
   "id": "66ba36df-7710-43da-8598-81ce8de633a0",
   "metadata": {},
   "outputs": [
    {
     "name": "stdout",
     "output_type": "stream",
     "text": [
      "Percentage of moves over 0 seconds: 80.65%\n"
     ]
    }
   ],
   "source": [
    "# Calculate percentage of moves over 0 seconds\n",
    "percentage_over_0_seconds = ((total_moves - zero_second_moves) / total_moves) * 100\n",
    "print(f'Percentage of moves over 0 seconds: {percentage_over_0_seconds:.2f}%')\n"
   ]
  },
  {
   "cell_type": "markdown",
   "id": "657a27e6-99e2-46ce-81b2-c3c637a17a95",
   "metadata": {},
   "source": [
    "# Feature Eng"
   ]
  },
  {
   "cell_type": "code",
   "execution_count": 13,
   "id": "9394afef-5fb4-4ec5-a5ad-31bcb1cfdff4",
   "metadata": {},
   "outputs": [
    {
     "name": "stdout",
     "output_type": "stream",
     "text": [
      "   FICSGamesDBGameNo                                     previous_state  \\\n",
      "0          700000486  rnbqkbnr/pppppppp/8/8/8/8/PPPPPPPP/RNBQKBNR w ...   \n",
      "1          700000486  rnbqkbnr/pppppppp/8/8/3P4/8/PPP1PPPP/RNBQKBNR ...   \n",
      "2          700000486  rnbqkbnr/ppp1pppp/8/3p4/3P4/8/PPP1PPPP/RNBQKBN...   \n",
      "3          700000486  rnbqkbnr/ppp1pppp/8/3p4/3P4/5N2/PPP1PPPP/RNBQK...   \n",
      "4          700000486  rnbqkb1r/ppp1pppp/5n2/3p4/3P4/5N2/PPP1PPPP/RNB...   \n",
      "\n",
      "                                       current_state  color  move_count  \\\n",
      "0  rnbqkbnr/pppppppp/8/8/3P4/8/PPP1PPPP/RNBQKBNR ...      0           1   \n",
      "1  rnbqkbnr/ppp1pppp/8/3p4/3P4/8/PPP1PPPP/RNBQKBN...      1           1   \n",
      "2  rnbqkbnr/ppp1pppp/8/3p4/3P4/5N2/PPP1PPPP/RNBQK...      0           2   \n",
      "3  rnbqkb1r/ppp1pppp/5n2/3p4/3P4/5N2/PPP1PPPP/RNB...      1           2   \n",
      "4  rnbqkb1r/ppp1pppp/5n2/3p4/3P4/5NP1/PPP1PP1P/RN...      0           3   \n",
      "\n",
      "   time_left_white  time_left_black  time_taken  \n",
      "0           1845.0           1800.0         0.0  \n",
      "1           1845.0           1845.0         0.0  \n",
      "2           1876.0           1845.0        14.0  \n",
      "3           1876.0           1871.0        19.0  \n",
      "4           1919.0           1871.0         2.0  \n"
     ]
    }
   ],
   "source": [
    "import pandas as pd\n",
    "import chess.pgn\n",
    "\n",
    "# Parsing time control from PGN tag\n",
    "def parse_time_control(time_control):\n",
    "    parts = time_control.split('+')\n",
    "    initial_time = int(parts[0])\n",
    "    additional_time_per_move = int(parts[1])\n",
    "    return initial_time, additional_time_per_move\n",
    "\n",
    "# Parsing time taken from PGN comment\n",
    "def parse_time(comment):\n",
    "    if \"[%emt\" in comment:\n",
    "        time_str = comment.split('[%emt ')[1].split(']')[0]\n",
    "        parts = time_str.split(':')\n",
    "        if len(parts) == 3:\n",
    "            hours, minutes, seconds = map(float, parts)\n",
    "            total_seconds = hours * 3600 + minutes * 60 + seconds\n",
    "        elif len(parts) == 2:\n",
    "            minutes, seconds = map(float, parts)\n",
    "            total_seconds = minutes * 60 + seconds\n",
    "        else:\n",
    "            total_seconds = float(parts[0])\n",
    "        return total_seconds\n",
    "    return 0\n",
    "\n",
    "# Reading the PGN file\n",
    "pgn_file_path = r'C:\\Users\\edulo\\OneDrive\\Documentos\\Loyalist\\AIP\\Week 5\\ds\\ficsgamesdb_2023_standard2000_movetimes_390744.pgn'\n",
    "\n",
    "# Initializing the DataFrame\n",
    "data = []\n",
    "\n",
    "# Openning PGN file\n",
    "with open(pgn_file_path, 'r') as pgn_file:\n",
    "    while True:\n",
    "        # Read each game from the PGN file\n",
    "        game = chess.pgn.read_game(pgn_file)\n",
    "        \n",
    "        # If no game is found, break the loop\n",
    "        if game is None:\n",
    "            break\n",
    "        \n",
    "        # Getting the game ID\n",
    "        game_id = int(game.headers['FICSGamesDBGameNo'])\n",
    "        \n",
    "        # Parse the time control\n",
    "        time_control = game.headers['TimeControl']\n",
    "        initial_time, additional_time_per_move = parse_time_control(time_control)\n",
    "        \n",
    "        # Initializing the board for the current game\n",
    "        board = game.board()\n",
    "        prev_fen = board.fen()\n",
    "        time_left_white = initial_time\n",
    "        time_left_black = initial_time\n",
    "        drop_game = False\n",
    "        move_count = 0\n",
    "        \n",
    "        # Iterating through each move in the current game\n",
    "        for node in game.mainline():\n",
    "            move = node.move\n",
    "            comment = node.comment\n",
    "            time_taken = parse_time(comment)\n",
    "            \n",
    "            # Incrementing move count for each player\n",
    "            if board.turn:\n",
    "                move_count += 1\n",
    "            \n",
    "            # Updating time left for the player making the move\n",
    "            if board.turn:\n",
    "                time_left_white -= time_taken\n",
    "                time_left_white += additional_time_per_move\n",
    "                if time_left_white < 0:\n",
    "                    drop_game = True\n",
    "                    break\n",
    "            else:\n",
    "                time_left_black -= time_taken\n",
    "                time_left_black += additional_time_per_move\n",
    "                if time_left_black < 0:\n",
    "                    drop_game = True\n",
    "                    break\n",
    "            \n",
    "            # Updating the board with the current move\n",
    "            board.push(move)\n",
    "            curr_fen = board.fen()\n",
    "            \n",
    "            # Append the data to the list\n",
    "            data.append([game_id, prev_fen, curr_fen, int(board.turn), move_count, time_left_white, time_left_black, time_taken])\n",
    "            \n",
    "            # Updating the previous FEN for the next move\n",
    "            prev_fen = curr_fen\n",
    "        \n",
    "        # If drop_game is True, skip appending data for this game\n",
    "        if drop_game:\n",
    "            continue\n",
    "\n",
    "# Creating a DataFrame from the collected data\n",
    "df = pd.DataFrame(data, columns=['FICSGamesDBGameNo', 'previous_state', 'current_state', 'color', 'move_count', 'time_left_white', 'time_left_black', 'time_taken'])\n",
    "\n",
    "# Check the DataFrame structure\n",
    "print(df.head())"
   ]
  },
  {
   "cell_type": "code",
   "execution_count": 14,
   "id": "a2f6bb06-5334-4025-b406-0640842c336d",
   "metadata": {},
   "outputs": [
    {
     "name": "stdout",
     "output_type": "stream",
     "text": [
      "r n b q k b n r\n",
      "p p p p p p p p\n",
      ". . . . . . . .\n",
      ". . . . . . . .\n",
      ". . . P . . . .\n",
      ". . . . . . . .\n",
      "P P P . P P P P\n",
      "R N B Q K B N R\n"
     ]
    }
   ],
   "source": [
    "#Testing FEN format\n",
    "\n",
    "import chess\n",
    "\n",
    "# FEN representation\n",
    "fen_str = \"rnbqkbnr/pppppppp/8/8/3P4/8/PPP1PPPP/RNBQKBNR b KQkq - 0 1\"\n",
    "\n",
    "# Create a chess board from FEN\n",
    "board = chess.Board(fen_str)\n",
    "\n",
    "# Print the chess board\n",
    "print(board)"
   ]
  },
  {
   "cell_type": "code",
   "execution_count": 15,
   "id": "1f0e9ad0-0f11-4c18-acd5-18913b18ccad",
   "metadata": {},
   "outputs": [],
   "source": [
    "import pandas as pd\n",
    "import numpy as np\n",
    "import chess"
   ]
  },
  {
   "cell_type": "code",
   "execution_count": 16,
   "id": "78ddcb87-045c-43d6-b216-bcd91862d875",
   "metadata": {},
   "outputs": [],
   "source": [
    "# Function to convert board state to one-hot encoding\n",
    "def board_to_one_hot(board):\n",
    "    one_hot = np.zeros((8, 8, 12), dtype=np.int8)\n",
    "    piece_map = {chess.PAWN: 0, chess.KNIGHT: 1, chess.BISHOP: 2,\n",
    "                 chess.ROOK: 3, chess.QUEEN: 4, chess.KING: 5}\n",
    "    for square in chess.scan_reversed(chess.BB_ALL):\n",
    "        piece = board.piece_at(square)\n",
    "        if piece is not None:\n",
    "            piece_index = piece_map[piece.piece_type] + (6 if piece.color else 0)\n",
    "            one_hot[chess.square_rank(square), chess.square_file(square), piece_index] = 1\n",
    "    return one_hot"
   ]
  },
  {
   "cell_type": "code",
   "execution_count": 17,
   "id": "9a0d9264-8e42-4cc1-920c-f2a074a89b83",
   "metadata": {},
   "outputs": [
    {
     "name": "stdout",
     "output_type": "stream",
     "text": [
      "   FICSGamesDBGameNo                                     previous_state  \\\n",
      "0          700000486  [[[0, 0, 0, 0, 0, 0, 0, 0, 0, 1, 0, 0], [0, 0,...   \n",
      "1          700000486  [[[0, 0, 0, 0, 0, 0, 0, 0, 0, 1, 0, 0], [0, 0,...   \n",
      "2          700000486  [[[0, 0, 0, 0, 0, 0, 0, 0, 0, 1, 0, 0], [0, 0,...   \n",
      "3          700000486  [[[0, 0, 0, 0, 0, 0, 0, 0, 0, 1, 0, 0], [0, 0,...   \n",
      "4          700000486  [[[0, 0, 0, 0, 0, 0, 0, 0, 0, 1, 0, 0], [0, 0,...   \n",
      "\n",
      "                                       current_state  color  move_count  \\\n",
      "0  [[[0, 0, 0, 0, 0, 0, 0, 0, 0, 1, 0, 0], [0, 0,...      0           1   \n",
      "1  [[[0, 0, 0, 0, 0, 0, 0, 0, 0, 1, 0, 0], [0, 0,...      1           1   \n",
      "2  [[[0, 0, 0, 0, 0, 0, 0, 0, 0, 1, 0, 0], [0, 0,...      0           2   \n",
      "3  [[[0, 0, 0, 0, 0, 0, 0, 0, 0, 1, 0, 0], [0, 0,...      1           2   \n",
      "4  [[[0, 0, 0, 0, 0, 0, 0, 0, 0, 1, 0, 0], [0, 0,...      0           3   \n",
      "\n",
      "   time_left_white  time_left_black  time_taken  \n",
      "0           1845.0           1800.0         0.0  \n",
      "1           1845.0           1845.0         0.0  \n",
      "2           1876.0           1845.0        14.0  \n",
      "3           1876.0           1871.0        19.0  \n",
      "4           1919.0           1871.0         2.0  \n"
     ]
    }
   ],
   "source": [
    "# Loop through each row in the DataFrame\n",
    "for index, row in df.iterrows():\n",
    "    # Get FEN representation of previous and current states\n",
    "    prev_fen = row['previous_state']\n",
    "    curr_fen = row['current_state']\n",
    "    \n",
    "    # Create board objects from FEN strings\n",
    "    prev_board = chess.Board(prev_fen)\n",
    "    curr_board = chess.Board(curr_fen)\n",
    "    \n",
    "    # Convert FEN representation to one-hot encoding\n",
    "    prev_one_hot = board_to_one_hot(prev_board)\n",
    "    curr_one_hot = board_to_one_hot(curr_board)\n",
    "    \n",
    "    # Update DataFrame with one-hot encoded states\n",
    "    df.at[index, 'previous_state'] = prev_one_hot\n",
    "    df.at[index, 'current_state'] = curr_one_hot\n",
    "\n",
    "# Check the updated DataFrame structure\n",
    "print(df.head())"
   ]
  },
  {
   "cell_type": "markdown",
   "id": "ef8556e3-4433-4446-af38-2e731eb1bb9b",
   "metadata": {},
   "source": [
    "# Model Building"
   ]
  },
  {
   "cell_type": "code",
   "execution_count": 22,
   "id": "29b1fb5b-2855-46fb-a852-1c7c67dceff7",
   "metadata": {},
   "outputs": [],
   "source": [
    "import numpy as np\n",
    "import tensorflow as tf\n",
    "from tensorflow.keras import layers, models\n",
    "from sklearn.model_selection import train_test_split"
   ]
  },
  {
   "cell_type": "code",
   "execution_count": 24,
   "id": "6c8a1c48-fdb0-411b-ab37-5877ef20f3dc",
   "metadata": {},
   "outputs": [],
   "source": [
    "# Data preprocessing\n",
    "X = df.drop(columns=['FICSGamesDBGameNo', 'time_taken', 'color'])\n",
    "y = df['time_taken']"
   ]
  },
  {
   "cell_type": "code",
   "execution_count": 26,
   "id": "db195e96-66cd-4063-94f2-b8f7190d510c",
   "metadata": {},
   "outputs": [],
   "source": [
    "# Split the data into train and test sets\n",
    "X_train, X_test, y_train, y_test = train_test_split(X, y, test_size=0.2, random_state=42)"
   ]
  },
  {
   "cell_type": "code",
   "execution_count": null,
   "id": "3f823a9f-b9ff-41b6-98f7-229916e5b9cf",
   "metadata": {},
   "outputs": [],
   "source": [
    "def create_cnn_model(input_shape):\n",
    "    model = models.Sequential([\n",
    "        layers.Conv2D(32, (3, 3), activation='relu', input_shape=input_shape),\n",
    "        layers.MaxPooling2D((2, 2)),\n",
    "        layers.Conv2D(64, (3, 3), activation='relu'),\n",
    "        layers.MaxPooling2D((2, 2)),\n",
    "        layers.Conv2D(64, (3, 3), activation='relu'),\n",
    "        layers.Flatten(),\n",
    "        layers.Dense(64, activation='relu'),\n",
    "        layers.Dense(1)\n",
    "    ])\n",
    "    return model\n",
    "\n",
    "input_shape = (8, 8, 64)\n",
    "\n",
    "# Create an instance of the CNN model\n",
    "model = create_cnn_model(input_shape)"
   ]
  },
  {
   "cell_type": "code",
   "execution_count": null,
   "id": "1df90b5d-c512-41dd-b0d7-128f67e9919b",
   "metadata": {},
   "outputs": [],
   "source": []
  }
 ],
 "metadata": {
  "kernelspec": {
   "display_name": "Python 3 (ipykernel)",
   "language": "python",
   "name": "python3"
  },
  "language_info": {
   "codemirror_mode": {
    "name": "ipython",
    "version": 3
   },
   "file_extension": ".py",
   "mimetype": "text/x-python",
   "name": "python",
   "nbconvert_exporter": "python",
   "pygments_lexer": "ipython3",
   "version": "3.11.7"
  }
 },
 "nbformat": 4,
 "nbformat_minor": 5
}
