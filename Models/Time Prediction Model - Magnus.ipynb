{
 "cells": [
  {
   "cell_type": "markdown",
   "id": "bc0e1fb2-f79c-4ecb-9087-403b27f4cf5c",
   "metadata": {},
   "source": [
    "# Merge Scraped Data"
   ]
  },
  {
   "cell_type": "code",
   "execution_count": null,
   "id": "31ad8610-d691-41d1-b191-fed8517d729d",
   "metadata": {},
   "outputs": [],
   "source": [
    "import os\n",
    "\n",
    "# Define the directory containing the PGN files\n",
    "input_directory = r'C:\\Users\\edulo\\OneDrive\\Documentos\\Loyalist\\AIP\\Week 4\\PGN\\Magnus Games PGN data\\Magnus PGN data'\n",
    "output_file = r'C:\\Users\\edulo\\OneDrive\\Documentos\\Loyalist\\AIP\\Week 4\\PGN\\Magnus Games PGN data\\Magnus_PGN_merged.pgn'\n",
    "\n",
    "# Get a list of all PGN files in the directory\n",
    "pgn_files = [f for f in os.listdir(input_directory) if f.endswith('.pgn')]\n",
    "\n",
    "# Initialize a list to store the content of all PGN files\n",
    "all_games = []\n",
    "\n",
    "# Loop through each PGN file and read its content\n",
    "for pgn_file in pgn_files:\n",
    "    with open(os.path.join(input_directory, pgn_file), 'r', encoding='utf-8') as file:\n",
    "        all_games.append(file.read())\n",
    "\n",
    "# Write the combined content to the output file\n",
    "with open(output_file, 'w', encoding='utf-8') as file:\n",
    "    for game in all_games:\n",
    "        file.write(game + '\\n\\n')  # Ensure each game is separated by a blank line\n",
    "\n",
    "print(f'Merged {len(pgn_files)} PGN files into {output_file}')"
   ]
  },
  {
   "cell_type": "markdown",
   "id": "ed6b9a5e-241d-456d-a4a5-396807d5dceb",
   "metadata": {},
   "source": [
    "# Filter Games with timestamp"
   ]
  },
  {
   "cell_type": "code",
   "execution_count": null,
   "id": "c88819c7-f04d-40e7-8004-75a4f4871762",
   "metadata": {},
   "outputs": [],
   "source": [
    "import re\n",
    "\n",
    "# Paths to the input merged PGN file and the output filtered PGN file\n",
    "merged_pgn_file = r'C:\\Users\\edulo\\OneDrive\\Documentos\\Loyalist\\AIP\\Week 4\\PGN\\Magnus Games PGN data\\Magnus_PGN_merged.pgn'\n",
    "filtered_pgn_file = r'C:\\Users\\edulo\\OneDrive\\Documentos\\Loyalist\\AIP\\Week 4\\PGN\\Magnus Games PGN data\\Magnus_PGN_filtered.pgn'\n",
    "\n",
    "# Function to check if a game has timestamps\n",
    "def has_timestamps(game):\n",
    "    return re.search(r'\\[%clk \\d{1,2}:\\d{2}(:\\d{2})?\\]', game) is not None\n",
    "\n",
    "# Read the merged PGN file\n",
    "with open(merged_pgn_file, 'r', encoding='utf-8') as file:\n",
    "    merged_pgn_content = file.read()\n",
    "\n",
    "# Split the content into individual games based on '[Event ' tag\n",
    "games = re.split(r'(\\[Event .+?\\n)', merged_pgn_content)\n",
    "# This will create a list where every event and game are separate elements. We need to combine them correctly.\n",
    "\n",
    "# Combine event tags with their corresponding games\n",
    "combined_games = []\n",
    "for i in range(0, len(games) - 1, 2):\n",
    "    combined_game = games[i] + games[i + 1]\n",
    "    combined_games.append(combined_game)\n",
    "\n",
    "# Filter games that contain timestamps\n",
    "filtered_games = [game for game in combined_games if has_timestamps(game)]\n",
    "\n",
    "# Write the filtered games to the new PGN file\n",
    "with open(filtered_pgn_file, 'w', encoding='utf-8') as file:\n",
    "    for game in filtered_games:\n",
    "        file.write(game.strip() + '\\n\\n')  # Ensure each game is separated by a blank line\n",
    "\n",
    "print(f'Filtered games with timestamps have been saved to {filtered_pgn_file}')\n"
   ]
  },
  {
   "cell_type": "markdown",
   "id": "41b54a5e-ade4-4e4a-8c74-f8f99d21ab6f",
   "metadata": {},
   "source": [
    "# Feature eng"
   ]
  },
  {
   "cell_type": "markdown",
   "id": "7d9ee424-fd18-41d4-b8d8-ee4ea8f39242",
   "metadata": {},
   "source": [
    "Creating Data Frame"
   ]
  },
  {
   "cell_type": "code",
   "execution_count": 1,
   "id": "f50cf607-fb4d-4d5b-a54e-00c1b064b066",
   "metadata": {},
   "outputs": [],
   "source": [
    "import chess\n",
    "import chess.pgn\n",
    "import pandas as pd\n",
    "import numpy as np\n",
    "import re\n",
    "\n",
    "# Function to parse PGN file and extract required data\n",
    "def parse_pgn_file(pgn_file):\n",
    "    df_data = []\n",
    "\n",
    "    with open(pgn_file, 'r') as file:\n",
    "        while True:\n",
    "            game = chess.pgn.read_game(file)\n",
    "            if game is None:\n",
    "                break\n",
    "\n",
    "            # Extract time control from headers\n",
    "            time_control = game.headers.get(\"TimeControl\", None)\n",
    "            if time_control:\n",
    "                initial_time = time_control.split('+')[0]\n",
    "                initial_time = int(initial_time) if initial_time.isdigit() else None\n",
    "            else:\n",
    "                initial_time = None\n",
    "\n",
    "            white_move_count = 1\n",
    "            black_move_count = 1\n",
    "\n",
    "            board = game.board()\n",
    "            prev_time_white = f\"0:{initial_time // 60:02}:{initial_time % 60:02}\" if initial_time else None\n",
    "            prev_time_black = f\"0:{initial_time // 60:02}:{initial_time % 60:02}\" if initial_time else None\n",
    "\n",
    "            for node in game.mainline():\n",
    "                move = node.move\n",
    "                fen = board.fen()\n",
    "                color = int(board.turn)\n",
    "                move_san = str(board.piece_at(move.from_square)).upper() + \\\n",
    "                           chess.SQUARE_NAMES[move.from_square] + \\\n",
    "                           chess.SQUARE_NAMES[move.to_square]\n",
    "                move_count = white_move_count if color == 0 else black_move_count\n",
    "\n",
    "                # Extract timestamps from comment\n",
    "                comment = node.comment\n",
    "                time_left_white = prev_time_white\n",
    "                time_left_black = prev_time_black\n",
    "                if comment:\n",
    "                    times = re.findall(r'\\[%clk ([\\d:]+)\\]', comment)\n",
    "                    if len(times) == 1:\n",
    "                        if color == 0:\n",
    "                            time_left_black = times[0]\n",
    "                        else:\n",
    "                            time_left_white = times[0]\n",
    "                    elif len(times) == 2:\n",
    "                        time_left_white = times[0]\n",
    "                        time_left_black = times[1]\n",
    "\n",
    "                df_data.append((fen, move_san, color, move_count, time_left_white, time_left_black))\n",
    "\n",
    "                if color == 0:\n",
    "                    white_move_count += 1\n",
    "                    prev_time_black = time_left_black\n",
    "                else:\n",
    "                    black_move_count += 1\n",
    "                    prev_time_white = time_left_white\n",
    "\n",
    "                board.push(move)\n",
    "\n",
    "    return df_data\n",
    "\n",
    "# Path to the filtered PGN file\n",
    "filtered_pgn_file = r'C:\\Users\\edulo\\OneDrive\\Documentos\\Loyalist\\AIP\\Week 4\\PGN\\Magnus Games PGN data\\Magnus_PGN_filtered.pgn'\n",
    "\n",
    "# Parse the PGN file and get DataFrame data\n",
    "df_data = parse_pgn_file(filtered_pgn_file)\n",
    "\n",
    "# Create DataFrame\n",
    "df = pd.DataFrame(df_data, columns=['Previous_FEN', 'Next_Move', 'Color', 'Move_Count', 'Time_Left_White', 'Time_Left_Black'])"
   ]
  },
  {
   "cell_type": "code",
   "execution_count": 2,
   "id": "6b9d0631-f606-4799-9c26-b853e7f03e4e",
   "metadata": {},
   "outputs": [],
   "source": [
    "# Convert time left columns to seconds\n",
    "df['Time_Left_White'] = df['Time_Left_White'].apply(lambda x: None if x is None else sum(int(t) * 60 ** i for i, t in enumerate(reversed(x.split(':')))))\n",
    "df['Time_Left_Black'] = df['Time_Left_Black'].apply(lambda x: None if x is None else sum(int(t) * 60 ** i for i, t in enumerate(reversed(x.split(':')))))"
   ]
  },
  {
   "cell_type": "code",
   "execution_count": 3,
   "id": "1e444097-a2d7-45c8-9f0e-1d24f34a47aa",
   "metadata": {},
   "outputs": [
    {
     "name": "stdout",
     "output_type": "stream",
     "text": [
      "                                            Previous_FEN Next_Move  Color  \\\n",
      "0      rnbqkbnr/pppppppp/8/8/8/8/PPPPPPPP/RNBQKBNR w ...     Pd2d4      1   \n",
      "1      rnbqkbnr/pppppppp/8/8/3P4/8/PPP1PPPP/RNBQKBNR ...     Ng8f6      0   \n",
      "2      rnbqkb1r/pppppppp/5n2/8/3P4/8/PPP1PPPP/RNBQKBN...     Pc2c4      1   \n",
      "3      rnbqkb1r/pppppppp/5n2/8/2PP4/8/PP2PPPP/RNBQKBN...     Pe7e6      0   \n",
      "4      rnbqkb1r/pppp1ppp/4pn2/8/2PP4/8/PP2PPPP/RNBQKB...     Ng1f3      1   \n",
      "...                                                  ...       ...    ...   \n",
      "91003       2r5/6p1/5p2/2K2Pk1/1P5p/7P/5RP1/8 w - - 5 51     Kc5d6      1   \n",
      "91004       2r5/6p1/3K1p2/5Pk1/1P5p/7P/5RP1/8 b - - 6 51     Rc8b8      0   \n",
      "91005       1r6/6p1/3K1p2/5Pk1/1P5p/7P/5RP1/8 w - - 7 52     Rf2b2      1   \n",
      "91006      1r6/6p1/3K1p2/5Pk1/1P5p/7P/1R4P1/8 b - - 8 52     Kg5f5      0   \n",
      "91007       1r6/6p1/3K1p2/5k2/1P5p/7P/1R4P1/8 w - - 0 53     Pb4b5      1   \n",
      "\n",
      "       Move_Count  Time_Left_White  Time_Left_Black  \n",
      "0               1             1519           1500.0  \n",
      "1               1             1519           1518.0  \n",
      "2               2             1527           1518.0  \n",
      "3               2             1527           1526.0  \n",
      "4               3             1535           1526.0  \n",
      "...           ...              ...              ...  \n",
      "91003          51              323            210.0  \n",
      "91004          51              323            198.0  \n",
      "91005          52              331            198.0  \n",
      "91006          52              331            189.0  \n",
      "91007          53              339            189.0  \n",
      "\n",
      "[91008 rows x 6 columns]\n"
     ]
    }
   ],
   "source": [
    "# Display DataFrame\n",
    "print(df)"
   ]
  },
  {
   "cell_type": "code",
   "execution_count": 4,
   "id": "633216a2-2301-44fd-93df-f82b0025471c",
   "metadata": {},
   "outputs": [
    {
     "name": "stdout",
     "output_type": "stream",
     "text": [
      "                                        Previous_FEN Next_Move  Color  \\\n",
      "0  rnbqkbnr/pppppppp/8/8/8/8/PPPPPPPP/RNBQKBNR w ...     Pd2d4      1   \n",
      "1  rnbqkbnr/pppppppp/8/8/3P4/8/PPP1PPPP/RNBQKBNR ...     Ng8f6      0   \n",
      "2  rnbqkb1r/pppppppp/5n2/8/3P4/8/PPP1PPPP/RNBQKBN...     Pc2c4      1   \n",
      "3  rnbqkb1r/pppppppp/5n2/8/2PP4/8/PP2PPPP/RNBQKBN...     Pe7e6      0   \n",
      "4  rnbqkb1r/pppp1ppp/4pn2/8/2PP4/8/PP2PPPP/RNBQKB...     Ng1f3      1   \n",
      "\n",
      "   Move_Count  Time_Left_White  Time_Left_Black  Time_Taken  \n",
      "0           1             1519           1500.0         1.0  \n",
      "1           1             1519           1518.0         1.0  \n",
      "2           2             1527           1518.0         2.0  \n",
      "3           2             1527           1526.0         2.0  \n",
      "4           3             1535           1526.0         2.0  \n"
     ]
    }
   ],
   "source": [
    "# Function to calculate the time taken for each move\n",
    "def calculate_time_taken(df, increment):\n",
    "    time_taken = []\n",
    "    prev_time_white = None\n",
    "    prev_time_black = None\n",
    "\n",
    "    for index, row in df.iterrows():\n",
    "        if row['Color'] == 1:  # White move\n",
    "            if prev_time_white is None or row['Time_Left_White'] is None:\n",
    "                time_taken.append(None)\n",
    "            else:\n",
    "                time_taken.append(prev_time_white + increment - row['Time_Left_White'])\n",
    "            prev_time_white = row['Time_Left_White']\n",
    "        else:  # Black move\n",
    "            if prev_time_black is None or row['Time_Left_Black'] is None:\n",
    "                time_taken.append(None)\n",
    "            else:\n",
    "                time_taken.append(prev_time_black + increment - row['Time_Left_Black'])\n",
    "            prev_time_black = row['Time_Left_Black']\n",
    "\n",
    "    df['Time_Taken'] = time_taken\n",
    "    return df\n",
    "\n",
    "# Extract the increment part from the time control, default to 0 if not present or invalid\n",
    "time_control = chess.pgn.read_headers(open(filtered_pgn_file, 'r')).get(\"TimeControl\", \"0+0\")\n",
    "increment = int(time_control.split('+')[1]) if '+' in time_control and time_control.split('+')[1].isdigit() else 0\n",
    "\n",
    "# Calculate the time taken and add the new column to the DataFrame\n",
    "df = calculate_time_taken(df, increment)\n",
    "\n",
    "# Set Time_Taken to 1 second for all rows where Move_Count is 1\n",
    "df.loc[df['Move_Count'] == 1, 'Time_Taken'] = 1\n",
    "\n",
    "# Display the updated DataFrame\n",
    "print(df.head())"
   ]
  },
  {
   "cell_type": "markdown",
   "id": "89d1f7b8-a98d-4c5b-8fa4-0be51a57596d",
   "metadata": {},
   "source": [
    "Drop rows where Time_Taken is below 0"
   ]
  },
  {
   "cell_type": "code",
   "execution_count": 6,
   "id": "733b5335-afe6-4c83-88c0-17e5ccca5056",
   "metadata": {},
   "outputs": [
    {
     "name": "stdout",
     "output_type": "stream",
     "text": [
      "                                        Previous_FEN Next_Move  Color  \\\n",
      "0  rnbqkbnr/pppppppp/8/8/8/8/PPPPPPPP/RNBQKBNR w ...     Pd2d4      1   \n",
      "1  rnbqkbnr/pppppppp/8/8/3P4/8/PPP1PPPP/RNBQKBNR ...     Ng8f6      0   \n",
      "2  rnbqkb1r/pppppppp/5n2/8/3P4/8/PPP1PPPP/RNBQKBN...     Pc2c4      1   \n",
      "3  rnbqkb1r/pppppppp/5n2/8/2PP4/8/PP2PPPP/RNBQKBN...     Pe7e6      0   \n",
      "4  rnbqkb1r/pppp1ppp/4pn2/8/2PP4/8/PP2PPPP/RNBQKB...     Ng1f3      1   \n",
      "\n",
      "   Move_Count  Time_Left_White  Time_Left_Black  Time_Taken  \n",
      "0           1             1519           1500.0         1.0  \n",
      "1           1             1519           1518.0         1.0  \n",
      "2           2             1527           1518.0         2.0  \n",
      "3           2             1527           1526.0         2.0  \n",
      "4           3             1535           1526.0         2.0  \n"
     ]
    }
   ],
   "source": [
    "# Drop rows where Time_Taken is below 0\n",
    "df = df.drop(df[df['Time_Taken'] < 0].index)\n",
    "\n",
    "# Display the updated DataFrame\n",
    "print(df.head())"
   ]
  },
  {
   "cell_type": "code",
   "execution_count": 7,
   "id": "0e9f758c-8687-41fb-aee3-852835eb3c8f",
   "metadata": {},
   "outputs": [],
   "source": [
    "# Function to convert move to label\n",
    "def move_to_label(move):\n",
    "    from_square = chess.parse_square(move[1:3])\n",
    "    to_square = chess.parse_square(move[3:])\n",
    "    return from_square * 64 + to_square\n",
    "\n",
    "# Convert Next_Move column to labels\n",
    "df['Next_Move'] = df['Next_Move'].apply(move_to_label)"
   ]
  },
  {
   "cell_type": "code",
   "execution_count": 8,
   "id": "e38df2e0-4193-4b92-92c0-6222dbb5f4f2",
   "metadata": {},
   "outputs": [],
   "source": [
    "# Function to convert board state to one-hot encoding\n",
    "def board_to_one_hot(fen):\n",
    "    board = chess.Board(fen)\n",
    "    one_hot = np.zeros((8, 8, 12), dtype=np.int8)\n",
    "    piece_map = {chess.PAWN: 0, chess.KNIGHT: 1, chess.BISHOP: 2,\n",
    "                 chess.ROOK: 3, chess.QUEEN: 4, chess.KING: 5}\n",
    "    for square in chess.scan_reversed(chess.BB_ALL):\n",
    "        piece = board.piece_at(square)\n",
    "        if piece is not None:\n",
    "            piece_index = piece_map[piece.piece_type] + (6 if piece.color else 0)\n",
    "            one_hot[chess.square_rank(square), chess.square_file(square), piece_index] = 1\n",
    "    return one_hot\n",
    "\n",
    "# Convert Previous_FEN column to one-hot encoding\n",
    "df['Previous_FEN'] = df['Previous_FEN'].apply(board_to_one_hot)"
   ]
  },
  {
   "cell_type": "code",
   "execution_count": 9,
   "id": "c524999b-078a-4be3-9580-8a2299a44757",
   "metadata": {},
   "outputs": [
    {
     "name": "stdout",
     "output_type": "stream",
     "text": [
      "                                            Previous_FEN  Next_Move  Color  \\\n",
      "0      [[[0, 0, 0, 0, 0, 0, 0, 0, 0, 1, 0, 0], [0, 0,...        731      1   \n",
      "1      [[[0, 0, 0, 0, 0, 0, 0, 0, 0, 1, 0, 0], [0, 0,...       4013      0   \n",
      "2      [[[0, 0, 0, 0, 0, 0, 0, 0, 0, 1, 0, 0], [0, 0,...        666      1   \n",
      "3      [[[0, 0, 0, 0, 0, 0, 0, 0, 0, 1, 0, 0], [0, 0,...       3372      0   \n",
      "4      [[[0, 0, 0, 0, 0, 0, 0, 0, 0, 1, 0, 0], [0, 0,...        405      1   \n",
      "...                                                  ...        ...    ...   \n",
      "91003  [[[0, 0, 0, 0, 0, 0, 0, 0, 0, 0, 0, 0], [0, 0,...       2219      1   \n",
      "91004  [[[0, 0, 0, 0, 0, 0, 0, 0, 0, 0, 0, 0], [0, 0,...       3769      0   \n",
      "91005  [[[0, 0, 0, 0, 0, 0, 0, 0, 0, 0, 0, 0], [0, 0,...        841      1   \n",
      "91006  [[[0, 0, 0, 0, 0, 0, 0, 0, 0, 0, 0, 0], [0, 0,...       2469      0   \n",
      "91007  [[[0, 0, 0, 0, 0, 0, 0, 0, 0, 0, 0, 0], [0, 0,...       1633      1   \n",
      "\n",
      "       Move_Count  Time_Left_White  Time_Left_Black  Time_Taken  \n",
      "0               1             1519           1500.0         1.0  \n",
      "1               1             1519           1518.0         1.0  \n",
      "2               2             1527           1518.0         2.0  \n",
      "3               2             1527           1526.0         2.0  \n",
      "4               3             1535           1526.0         2.0  \n",
      "...           ...              ...              ...         ...  \n",
      "91003          51              323            210.0         2.0  \n",
      "91004          51              323            198.0        22.0  \n",
      "91005          52              331            198.0         2.0  \n",
      "91006          52              331            189.0        19.0  \n",
      "91007          53              339            189.0         2.0  \n",
      "\n",
      "[88631 rows x 7 columns]\n"
     ]
    }
   ],
   "source": [
    "# Display DataFrame\n",
    "print(df)"
   ]
  },
  {
   "cell_type": "markdown",
   "id": "e3e87a6c-5329-45d1-b234-a4594cc355b2",
   "metadata": {},
   "source": [
    "Using only target player information"
   ]
  },
  {
   "cell_type": "code",
   "execution_count": 16,
   "id": "fb7f0ee8-ec8d-4c86-929f-732edb4e855f",
   "metadata": {},
   "outputs": [],
   "source": [
    "# Drop rows where Color column is equal to 0\n",
    "df = df[df['Color'] != 0]"
   ]
  },
  {
   "cell_type": "markdown",
   "id": "ca402b23-030d-4da6-b64a-cffb41df36c8",
   "metadata": {},
   "source": [
    "Check for null values"
   ]
  },
  {
   "cell_type": "code",
   "execution_count": 22,
   "id": "03fb8789-0404-4968-8132-ca5880b19860",
   "metadata": {},
   "outputs": [
    {
     "name": "stdout",
     "output_type": "stream",
     "text": [
      "Previous_FEN        0\n",
      "Next_Move           0\n",
      "Color               0\n",
      "Move_Count          0\n",
      "Time_Left_White     0\n",
      "Time_Left_Black    79\n",
      "Time_Taken          0\n",
      "dtype: int64\n"
     ]
    }
   ],
   "source": [
    "# Check for null values\n",
    "null_values = df.isnull().sum()\n",
    "print(null_values)"
   ]
  },
  {
   "cell_type": "code",
   "execution_count": 23,
   "id": "a44c4521-51e8-4c10-ba1d-0fed5cdb39eb",
   "metadata": {},
   "outputs": [
    {
     "name": "stdout",
     "output_type": "stream",
     "text": [
      "          Next_Move    Color    Move_Count  Time_Left_White  Time_Left_Black  \\\n",
      "count  44592.000000  44592.0  44592.000000     44592.000000     44513.000000   \n",
      "mean    1254.113361      1.0     27.308508       407.443936       369.718936   \n",
      "std      929.930095      0.0     19.265612       937.915071       860.394275   \n",
      "min        1.000000      1.0      1.000000         0.000000         0.000000   \n",
      "25%      454.000000      1.0     12.000000        51.000000        29.000000   \n",
      "50%     1080.000000      1.0     24.000000       141.000000       104.000000   \n",
      "75%     1828.000000      1.0     38.000000       344.000000       289.000000   \n",
      "max     4094.000000      1.0    135.000000     70758.000000      8261.000000   \n",
      "\n",
      "         Time_Taken  \n",
      "count  44592.000000  \n",
      "mean      28.433060  \n",
      "std      347.362455  \n",
      "min        0.000000  \n",
      "25%       10.000000  \n",
      "50%       11.000000  \n",
      "75%       16.000000  \n",
      "max    70763.000000  \n"
     ]
    }
   ],
   "source": [
    "# Print statistical information from dataset\n",
    "print(df.describe())"
   ]
  },
  {
   "cell_type": "code",
   "execution_count": 24,
   "id": "52f950f1-c488-4899-8612-f8fb6b5d4aa3",
   "metadata": {},
   "outputs": [],
   "source": [
    "#Drop null values\n",
    "df = df.dropna()"
   ]
  },
  {
   "cell_type": "code",
   "execution_count": 25,
   "id": "59caace8-238a-4a70-baae-b26e9bd0f249",
   "metadata": {},
   "outputs": [
    {
     "name": "stdout",
     "output_type": "stream",
     "text": [
      "Previous_FEN       0\n",
      "Next_Move          0\n",
      "Color              0\n",
      "Move_Count         0\n",
      "Time_Left_White    0\n",
      "Time_Left_Black    0\n",
      "Time_Taken         0\n",
      "dtype: int64\n"
     ]
    }
   ],
   "source": [
    "# Check for null values\n",
    "null_values = df.isnull().sum()\n",
    "print(null_values)"
   ]
  },
  {
   "cell_type": "code",
   "execution_count": 26,
   "id": "97ba135a-1104-489d-b48a-8aa882d5798b",
   "metadata": {},
   "outputs": [
    {
     "name": "stdout",
     "output_type": "stream",
     "text": [
      "          Next_Move    Color    Move_Count  Time_Left_White  Time_Left_Black  \\\n",
      "count  44513.000000  44513.0  44513.000000     44513.000000     44513.000000   \n",
      "mean    1255.004223      1.0     27.355200       403.896435       369.718936   \n",
      "std      930.508341      0.0     19.250765       929.802600       860.394275   \n",
      "min        1.000000      1.0      1.000000         0.000000         0.000000   \n",
      "25%      454.000000      1.0     12.000000        50.000000        29.000000   \n",
      "50%     1096.000000      1.0     24.000000       140.000000       104.000000   \n",
      "75%     1828.000000      1.0     38.000000       341.000000       289.000000   \n",
      "max     4094.000000      1.0    135.000000     70758.000000      8261.000000   \n",
      "\n",
      "         Time_Taken  \n",
      "count  44513.000000  \n",
      "mean      28.481747  \n",
      "std      347.668644  \n",
      "min        0.000000  \n",
      "25%       10.000000  \n",
      "50%       11.000000  \n",
      "75%       16.000000  \n",
      "max    70763.000000  \n"
     ]
    }
   ],
   "source": [
    "# Print statistical information from dataset\n",
    "print(df.describe())"
   ]
  },
  {
   "cell_type": "code",
   "execution_count": 33,
   "id": "0dae4843-3d4c-4098-8141-2e9fea9c2f00",
   "metadata": {},
   "outputs": [],
   "source": [
    "# Path to save the CSV file\n",
    "csv_file_path = r'C:\\Users\\edulo\\OneDrive\\Documentos\\Loyalist\\AIP\\Week 4\\PGN\\Magnus Games PGN data\\Magnus_PGN_filtered.csv'\n",
    "\n",
    "# Export DataFrame to CSV\n",
    "df.to_csv(csv_file_path, index=False)"
   ]
  },
  {
   "cell_type": "markdown",
   "id": "5533fdd9-99a8-4b9a-aa74-e5cf8d323e31",
   "metadata": {},
   "source": [
    "# Model Building"
   ]
  },
  {
   "cell_type": "code",
   "execution_count": 51,
   "id": "de0455bc-5ead-44f0-8dfb-c2112b3e5ffc",
   "metadata": {},
   "outputs": [
    {
     "name": "stdout",
     "output_type": "stream",
     "text": [
      "Epoch 1/10\n",
      "\u001b[1m1113/1113\u001b[0m \u001b[32m━━━━━━━━━━━━━━━━━━━━\u001b[0m\u001b[37m\u001b[0m \u001b[1m12s\u001b[0m 9ms/step - loss: 4.9581e-04 - mse: 4.9581e-04 - val_loss: 4.7556e-06 - val_mse: 4.7663e-06\n",
      "Epoch 2/10\n",
      "\u001b[1m1113/1113\u001b[0m \u001b[32m━━━━━━━━━━━━━━━━━━━━\u001b[0m\u001b[37m\u001b[0m \u001b[1m18s\u001b[0m 7ms/step - loss: 1.6181e-04 - mse: 1.6181e-04 - val_loss: 1.7121e-04 - val_mse: 1.7168e-04\n",
      "Epoch 3/10\n",
      "\u001b[1m1113/1113\u001b[0m \u001b[32m━━━━━━━━━━━━━━━━━━━━\u001b[0m\u001b[37m\u001b[0m \u001b[1m11s\u001b[0m 7ms/step - loss: 9.5898e-05 - mse: 9.5898e-05 - val_loss: 1.1816e-05 - val_mse: 1.1823e-05\n",
      "Epoch 4/10\n",
      "\u001b[1m1113/1113\u001b[0m \u001b[32m━━━━━━━━━━━━━━━━━━━━\u001b[0m\u001b[37m\u001b[0m \u001b[1m9s\u001b[0m 8ms/step - loss: 9.5093e-05 - mse: 9.5093e-05 - val_loss: 1.8673e-05 - val_mse: 1.8689e-05\n",
      "Epoch 5/10\n",
      "\u001b[1m1113/1113\u001b[0m \u001b[32m━━━━━━━━━━━━━━━━━━━━\u001b[0m\u001b[37m\u001b[0m \u001b[1m9s\u001b[0m 7ms/step - loss: 0.0028 - mse: 0.0028 - val_loss: 6.4059e-06 - val_mse: 6.4207e-06\n",
      "Epoch 6/10\n",
      "\u001b[1m1113/1113\u001b[0m \u001b[32m━━━━━━━━━━━━━━━━━━━━\u001b[0m\u001b[37m\u001b[0m \u001b[1m11s\u001b[0m 7ms/step - loss: 5.4635e-04 - mse: 5.4635e-04 - val_loss: 1.9917e-04 - val_mse: 1.9960e-04\n",
      "Epoch 7/10\n",
      "\u001b[1m1113/1113\u001b[0m \u001b[32m━━━━━━━━━━━━━━━━━━━━\u001b[0m\u001b[37m\u001b[0m \u001b[1m11s\u001b[0m 9ms/step - loss: 0.0016 - mse: 0.0016 - val_loss: 9.0027e-05 - val_mse: 9.0254e-05\n",
      "Epoch 8/10\n",
      "\u001b[1m1113/1113\u001b[0m \u001b[32m━━━━━━━━━━━━━━━━━━━━\u001b[0m\u001b[37m\u001b[0m \u001b[1m15s\u001b[0m 5ms/step - loss: 0.0020 - mse: 0.0020 - val_loss: 2.5523e-05 - val_mse: 2.5574e-05\n",
      "Epoch 9/10\n",
      "\u001b[1m1113/1113\u001b[0m \u001b[32m━━━━━━━━━━━━━━━━━━━━\u001b[0m\u001b[37m\u001b[0m \u001b[1m7s\u001b[0m 6ms/step - loss: 7.7875e-04 - mse: 7.7875e-04 - val_loss: 6.1391e-05 - val_mse: 6.1553e-05\n",
      "Epoch 10/10\n",
      "\u001b[1m1113/1113\u001b[0m \u001b[32m━━━━━━━━━━━━━━━━━━━━\u001b[0m\u001b[37m\u001b[0m \u001b[1m10s\u001b[0m 6ms/step - loss: 8.4781e-04 - mse: 8.4781e-04 - val_loss: 1.7428e-04 - val_mse: 1.7471e-04\n",
      "Epoch 1/10\n",
      "\u001b[1m1113/1113\u001b[0m \u001b[32m━━━━━━━━━━━━━━━━━━━━\u001b[0m\u001b[37m\u001b[0m \u001b[1m9s\u001b[0m 8ms/step - loss: 0.0011 - mse: 0.0011 - val_loss: 1.3167e-05 - val_mse: 1.3196e-05\n",
      "Epoch 2/10\n",
      "\u001b[1m1113/1113\u001b[0m \u001b[32m━━━━━━━━━━━━━━━━━━━━\u001b[0m\u001b[37m\u001b[0m \u001b[1m9s\u001b[0m 8ms/step - loss: 2.1748e-04 - mse: 2.1748e-04 - val_loss: 2.5824e-05 - val_mse: 2.5876e-05\n",
      "Epoch 3/10\n",
      "\u001b[1m1113/1113\u001b[0m \u001b[32m━━━━━━━━━━━━━━━━━━━━\u001b[0m\u001b[37m\u001b[0m \u001b[1m9s\u001b[0m 8ms/step - loss: 8.9221e-05 - mse: 8.9222e-05 - val_loss: 4.4803e-05 - val_mse: 4.4911e-05\n",
      "Epoch 4/10\n",
      "\u001b[1m1113/1113\u001b[0m \u001b[32m━━━━━━━━━━━━━━━━━━━━\u001b[0m\u001b[37m\u001b[0m \u001b[1m8s\u001b[0m 7ms/step - loss: 2.3047e-04 - mse: 2.3047e-04 - val_loss: 3.2181e-05 - val_mse: 3.2247e-05\n",
      "Epoch 5/10\n",
      "\u001b[1m1113/1113\u001b[0m \u001b[32m━━━━━━━━━━━━━━━━━━━━\u001b[0m\u001b[37m\u001b[0m \u001b[1m9s\u001b[0m 8ms/step - loss: 2.1961e-04 - mse: 2.1961e-04 - val_loss: 5.9652e-05 - val_mse: 5.9790e-05\n",
      "Epoch 6/10\n",
      "\u001b[1m1113/1113\u001b[0m \u001b[32m━━━━━━━━━━━━━━━━━━━━\u001b[0m\u001b[37m\u001b[0m \u001b[1m8s\u001b[0m 8ms/step - loss: 3.8344e-04 - mse: 3.8344e-04 - val_loss: 1.4959e-05 - val_mse: 1.4975e-05\n",
      "Epoch 7/10\n",
      "\u001b[1m1113/1113\u001b[0m \u001b[32m━━━━━━━━━━━━━━━━━━━━\u001b[0m\u001b[37m\u001b[0m \u001b[1m9s\u001b[0m 6ms/step - loss: 6.6625e-04 - mse: 6.6625e-04 - val_loss: 6.1600e-06 - val_mse: 6.1736e-06\n",
      "Epoch 8/10\n",
      "\u001b[1m1113/1113\u001b[0m \u001b[32m━━━━━━━━━━━━━━━━━━━━\u001b[0m\u001b[37m\u001b[0m \u001b[1m8s\u001b[0m 7ms/step - loss: 0.0016 - mse: 0.0016 - val_loss: 4.9619e-06 - val_mse: 4.9714e-06\n",
      "Epoch 9/10\n",
      "\u001b[1m1113/1113\u001b[0m \u001b[32m━━━━━━━━━━━━━━━━━━━━\u001b[0m\u001b[37m\u001b[0m \u001b[1m9s\u001b[0m 6ms/step - loss: 1.1134e-04 - mse: 1.1134e-04 - val_loss: 1.6227e-04 - val_mse: 1.6256e-04\n",
      "Epoch 10/10\n",
      "\u001b[1m1113/1113\u001b[0m \u001b[32m━━━━━━━━━━━━━━━━━━━━\u001b[0m\u001b[37m\u001b[0m \u001b[1m11s\u001b[0m 7ms/step - loss: 9.8692e-04 - mse: 9.8692e-04 - val_loss: 4.7763e-06 - val_mse: 4.7861e-06\n"
     ]
    },
    {
     "data": {
      "text/plain": [
       "<keras.src.callbacks.history.History at 0x1b15f7d1250>"
      ]
     },
     "execution_count": 51,
     "metadata": {},
     "output_type": "execute_result"
    }
   ],
   "source": [
    "import tensorflow as tf\n",
    "from tensorflow.keras.models import Model\n",
    "from tensorflow.keras.layers import Input, Conv2D, Flatten, Dense, Concatenate\n",
    "from sklearn.model_selection import train_test_split\n",
    "from sklearn.preprocessing import StandardScaler\n",
    "\n",
    "# Convert Previous_FEN to numpy array\n",
    "X_fen = np.array(df['Previous_FEN'].tolist())\n",
    "\n",
    "# Normalize numeric features\n",
    "scaler = StandardScaler()\n",
    "X_numeric = df[['Move_Count', 'Time_Left_White', 'Time_Left_Black']].values\n",
    "X_numeric = scaler.fit_transform(X_numeric)\n",
    "\n",
    "# Combine inputs\n",
    "input_fen = Input(shape=(8, 8, 12))\n",
    "input_numeric = Input(shape=(3,))\n",
    "\n",
    "# CNN layers for board state\n",
    "conv1 = Conv2D(32, (3, 3), activation='relu')(input_fen)\n",
    "conv2 = Conv2D(64, (3, 3), activation='relu')(conv1)\n",
    "flatten = Flatten()(conv2)\n",
    "\n",
    "# Concatenate CNN output with numeric inputs\n",
    "concatenated = Concatenate()([flatten, input_numeric])\n",
    "\n",
    "# Dense layers for regression\n",
    "dense1 = Dense(128, activation='relu')(concatenated)\n",
    "output = Dense(1)(dense1)  # Regression output for Time_Taken\n",
    "\n",
    "# Define model\n",
    "model = Model(inputs=[input_fen, input_numeric], outputs=output)\n",
    "\n",
    "# Compile model with MSE as the metric\n",
    "model.compile(optimizer='adam', loss='mean_squared_error', metrics=['mse'])\n",
    "\n",
    "# Train model\n",
    "history = model.fit([X_train_fen, X_train_numeric], y_train, epochs=10, batch_size=32, \n",
    "                    validation_data=([X_test_fen, X_test_numeric], y_test))\n",
    "# Train model\n",
    "model.fit([X_train_fen, X_train_numeric], y_train, epochs=10, batch_size=32, validation_data=([X_test_fen, X_test_numeric], y_test))"
   ]
  },
  {
   "cell_type": "code",
   "execution_count": 52,
   "id": "85f28838-f2d7-46f8-9fc6-5b58c3420a73",
   "metadata": {},
   "outputs": [
    {
     "name": "stdout",
     "output_type": "stream",
     "text": [
      "\u001b[1m279/279\u001b[0m \u001b[32m━━━━━━━━━━━━━━━━━━━━\u001b[0m\u001b[37m\u001b[0m \u001b[1m1s\u001b[0m 5ms/step - loss: 4.1401e-06 - mse: 4.1402e-06\n",
      "Test MSE: 4.786091267305892e-06\n"
     ]
    }
   ],
   "source": [
    "# Evaluate model on test data\n",
    "loss, mse = model.evaluate([X_test_fen, X_test_numeric], y_test)\n",
    "print(f'Test MSE: {mse}')\n"
   ]
  },
  {
   "cell_type": "code",
   "execution_count": null,
   "id": "ab9d3501-2173-4e61-bd58-648d90f44d98",
   "metadata": {},
   "outputs": [],
   "source": []
  },
  {
   "cell_type": "code",
   "execution_count": null,
   "id": "b34df0b7-efb0-415a-86d6-87e18d83192a",
   "metadata": {},
   "outputs": [],
   "source": []
  },
  {
   "cell_type": "code",
   "execution_count": null,
   "id": "a29f8f8e-7f2a-49cf-98d6-04dda2da86db",
   "metadata": {},
   "outputs": [],
   "source": []
  }
 ],
 "metadata": {
  "kernelspec": {
   "display_name": "Python 3 (ipykernel)",
   "language": "python",
   "name": "python3"
  },
  "language_info": {
   "codemirror_mode": {
    "name": "ipython",
    "version": 3
   },
   "file_extension": ".py",
   "mimetype": "text/x-python",
   "name": "python",
   "nbconvert_exporter": "python",
   "pygments_lexer": "ipython3",
   "version": "3.11.7"
  }
 },
 "nbformat": 4,
 "nbformat_minor": 5
}
